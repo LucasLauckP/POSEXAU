{
 "cells": [
  {
   "cell_type": "code",
   "execution_count": null,
   "id": "45058a40",
   "metadata": {},
   "outputs": [],
   "source": [
    "import import_ipynb\n",
    "import lateral_raise as LR\n",
    "import print_result as PR\n",
    "\n",
    "BODY_PARTS = { \"Head\": 0, \"Neck\": 1, \"RShoulder\": 2, \"RElbow\": 3, \"RWrist\": 4,\n",
    "               \"LShoulder\": 5, \"LElbow\": 6, \"LWrist\": 7, \"DHip\": 8, \"RKnee\": 9,\n",
    "               \"DAnkle\": 10, \"LHip\": 11, \"LKnee\": 12, \"LAnkle\": 13, \"Chest\": 14 }\n",
    "\n",
    "LATERAL_RAISE_WARNING = { \"None\": 0, \"Right Arm\": 1, \"Left Arm\": 2, \"Both Arms\": 3 }\n",
    "\n",
    "def confiability_lateral_raise(confs,prob_min_lateral_raise):\n",
    "    Num_Points = 9\n",
    "    \n",
    "    Sum_Confiability = (confs[BODY_PARTS[\"Head\"]] + confs[BODY_PARTS[\"Neck\"]]+ confs[BODY_PARTS[\"RShoulder\"]] \n",
    "                    + confs[BODY_PARTS[\"RElbow\"]] + confs[BODY_PARTS[\"RWrist\"]]+ confs[BODY_PARTS[\"LShoulder\"]] \n",
    "                    + confs[BODY_PARTS[\"LElbow\"]] + confs[BODY_PARTS[\"LWrist\"]] + confs[BODY_PARTS[\"Chest\"]])\n",
    "    \n",
    "    Confiability = ((Sum_Confiability)/Num_Points)\n",
    "    \n",
    "    print(\"Confaibilidade = \" + str(Confiability))\n",
    "    \n",
    "    return False if (Confiability <= prob_min_lateral_raise) else True\n",
    "    \n",
    "    \n",
    "        \n",
    "def inspec_lateral_raise(confs,prob_min_lateral_raise,frame, points, angle_max_arms, print_angles):\n",
    "    if confiability_lateral_raise(confs,prob_min_lateral_raise):\n",
    "        warning = LATERAL_RAISE_WARNING[\"None\"]\n",
    "    \n",
    "        bodyAngle = LR.calculate_person_angle(points[BODY_PARTS[\"Chest\"]],points[BODY_PARTS[\"Neck\"]])\n",
    "        \n",
    "        angleRight = LR.calculate_right_arm_angle(points[BODY_PARTS[\"RWrist\"]],points[BODY_PARTS[\"LShoulder\"]])\n",
    "        \n",
    "        if angleRight > (angle_max_arms+bodyAngle) : \n",
    "            warning = LATERAL_RAISE_WARNING[\"Right Arm\"]\n",
    "            \n",
    "        angleLeft = LR.calculate_left_arm_angle(points[BODY_PARTS[\"LWrist\"]],points[BODY_PARTS[\"RShoulder\"]])\n",
    "        \n",
    "        if angleLeft > (angle_max_arms-bodyAngle) : \n",
    "            if warning == LATERAL_RAISE_WARNING[\"Right Arm\"]:\n",
    "                warning = LATERAL_RAISE_WARNING[\"Both Arms\"]\n",
    "            else:\n",
    "                warning = LATERAL_RAISE_WARNING[\"Left Arm\"]\n",
    "        \n",
    "        frame = PR.print_body_result(frame, points, warning)\n",
    "    \n",
    "        if(print_angles):\n",
    "            frame = PR.print_lateral_raise_angles(frame,angleRight,angleLeft,bodyAngle,points)"
   ]
  }
 ],
 "metadata": {
  "kernelspec": {
   "display_name": "Python 3 (ipykernel)",
   "language": "python",
   "name": "python3"
  },
  "language_info": {
   "codemirror_mode": {
    "name": "ipython",
    "version": 3
   },
   "file_extension": ".py",
   "mimetype": "text/x-python",
   "name": "python",
   "nbconvert_exporter": "python",
   "pygments_lexer": "ipython3",
   "version": "3.7.11"
  }
 },
 "nbformat": 4,
 "nbformat_minor": 5
}
