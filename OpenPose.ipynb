{
 "cells": [
  {
   "cell_type": "markdown",
   "id": "0fc806c0",
   "metadata": {},
   "source": [
    "Imports"
   ]
  },
  {
   "cell_type": "code",
   "execution_count": 1,
   "id": "ceb1c29c",
   "metadata": {},
   "outputs": [
    {
     "name": "stdout",
     "output_type": "stream",
     "text": [
      "importing Jupyter notebook from poseaux.ipynb\n",
      "importing Jupyter notebook from lateral_raise.ipynb\n",
      "importing Jupyter notebook from print_result.ipynb\n"
     ]
    }
   ],
   "source": [
    "import cv2 as cv \n",
    "import os\n",
    "import import_ipynb\n",
    "import poseaux "
   ]
  },
  {
   "cell_type": "code",
   "execution_count": 3,
   "id": "6a10d4c3",
   "metadata": {},
   "outputs": [],
   "source": [
    "# Specify the paths for the 2 files\n",
    "protoFile = \"openpose_pose_mpi_faster_4_stages.prototxt\"\n",
    "weightsFile = \"pose_iter_160000.caffemodel\"\n",
    "# Read the network into Memory\n",
    "net = cv.dnn.readNetFromCaffe(protoFile, weightsFile)\n",
    "\n",
    "# Minimium to mark point on result\n",
    "threshold = 0.2\n",
    "  \n",
    "# Specify the input image dimensions\n",
    "inWidth = 368\n",
    "inHeight = 368"
   ]
  },
  {
   "cell_type": "code",
   "execution_count": 14,
   "id": "094e3cd4",
   "metadata": {},
   "outputs": [
    {
     "name": "stdout",
     "output_type": "stream",
     "text": [
      "Creating... Frame 0\n",
      "Problem in RWrist\n",
      "Creating... Frame 1\n",
      "Problem in RWrist\n",
      "Creating... Frame 2\n",
      "Problem in RWrist\n",
      "Creating... Frame 3\n",
      "Creating... Frame 4\n"
     ]
    },
    {
     "ename": "KeyboardInterrupt",
     "evalue": "",
     "output_type": "error",
     "traceback": [
      "\u001b[1;31m---------------------------------------------------------------------------\u001b[0m",
      "\u001b[1;31mKeyboardInterrupt\u001b[0m                         Traceback (most recent call last)",
      "\u001b[1;32m~\\AppData\\Local\\Temp/ipykernel_7660/2514097337.py\u001b[0m in \u001b[0;36m<module>\u001b[1;34m\u001b[0m\n\u001b[0;32m     40\u001b[0m     \u001b[0mnet\u001b[0m\u001b[1;33m.\u001b[0m\u001b[0msetInput\u001b[0m\u001b[1;33m(\u001b[0m\u001b[0minpBlob\u001b[0m\u001b[1;33m)\u001b[0m\u001b[1;33m\u001b[0m\u001b[1;33m\u001b[0m\u001b[0m\n\u001b[0;32m     41\u001b[0m \u001b[1;33m\u001b[0m\u001b[0m\n\u001b[1;32m---> 42\u001b[1;33m     \u001b[0moutput\u001b[0m \u001b[1;33m=\u001b[0m \u001b[0mnet\u001b[0m\u001b[1;33m.\u001b[0m\u001b[0mforward\u001b[0m\u001b[1;33m(\u001b[0m\u001b[1;33m)\u001b[0m\u001b[1;33m\u001b[0m\u001b[1;33m\u001b[0m\u001b[0m\n\u001b[0m\u001b[0;32m     43\u001b[0m \u001b[1;33m\u001b[0m\u001b[0m\n\u001b[0;32m     44\u001b[0m     \u001b[0mH\u001b[0m \u001b[1;33m=\u001b[0m \u001b[0moutput\u001b[0m\u001b[1;33m.\u001b[0m\u001b[0mshape\u001b[0m\u001b[1;33m[\u001b[0m\u001b[1;36m2\u001b[0m\u001b[1;33m]\u001b[0m\u001b[1;33m\u001b[0m\u001b[1;33m\u001b[0m\u001b[0m\n",
      "\u001b[1;31mKeyboardInterrupt\u001b[0m: "
     ]
    }
   ],
   "source": [
    "#for frame identity\n",
    "index = 0\n",
    "\n",
    "#Final Video name\n",
    "pathOut = 'video_final.mp4'\n",
    "\n",
    "frame_array = []\n",
    "\n",
    "#Define the max angle of arms\n",
    "angle_max_arms = 95\n",
    "\n",
    "if not os.path.exists('./Result'):\n",
    "    os.makedirs('./Result')\n",
    "\n",
    "# set video file path of input video with name and extension\n",
    "vid = cv.VideoCapture('../frame_frame/Abdominal/IMG_4165.mp4')\n",
    "fps = vid.get(cv.CAP_PROP_FPS)\n",
    "Height = vid.get(cv.CAP_PROP_FRAME_HEIGHT)\n",
    "Width = vid.get(cv.CAP_PROP_FRAME_WIDTH)\n",
    "size = (Width,Height)\n",
    "\n",
    "while(True):        \n",
    "    # Extract images\n",
    "    ret, frame = vid.read()\n",
    "    # end of frames\n",
    "    if not ret: \n",
    "        break\n",
    "        \n",
    "    print ('Creating... Frame '+ str(index))\n",
    "     \n",
    "    # Prepare the frame to be fed to the network\n",
    "    inpBlob = cv.dnn.blobFromImage(\n",
    "        frame, 1.0 / 255, (inWidth, inHeight), (0, 0, 0), swapRB=False, crop=False)\n",
    "\n",
    "    # Set the prepared object as the input blob of the network\n",
    "    net.setInput(inpBlob)\n",
    "\n",
    "    output = net.forward()\n",
    "\n",
    "    H = output.shape[2]\n",
    "    W = output.shape[3]\n",
    "    # Empty list to store the detected keypoints\n",
    "    points = []\n",
    "    for i in range(15):\n",
    "        # confidence map of corresponding body's part.\n",
    "        probMap = output[0, i, :, :]\n",
    "\n",
    "        # Find global maxima of the probMap.\n",
    "        minVal, prob, minLoc, point = cv.minMaxLoc(probMap)\n",
    "        Height, Width = frame.shape[:2]\n",
    "        # Scale the point to fit on the original image\n",
    "        x = (Width * point[0]) / W\n",
    "        y = (Height * point[1]) / H\n",
    "\n",
    "        if prob > threshold:\n",
    "            cv.circle(frame, (int(x), int(y)), 15, (0, 255, 255), thickness=-1, lineType=cv.FILLED)\n",
    "            cv.putText(frame, \"{}\".format(i), (int(x), int(y)), cv.FONT_HERSHEY_SIMPLEX, \n",
    "                           1.4, (0, 0, 255), 3, lineType=cv.LINE_AA)\n",
    "\n",
    "            # Add the point to the list if the probability is greater than the threshold\n",
    "            points.append((int(x), int(y)))\n",
    "        else:\n",
    "            points.append(None)\n",
    "\n",
    "    poseaux.inspec_lateral_raise(frame, points, angle_max_arms, True)\n",
    "\n",
    "    cv.imwrite(\"./Result/frame_r_\"+str(index)+\".jpg\", frame)\n",
    "\n",
    "    #inserting the frames into an image array\n",
    "    frame_array.append(frame)\n",
    "    \n",
    "    # next frame\n",
    "    index += 1\n",
    "    \n",
    "# Create Final Video\n",
    "out = cv.VideoWriter(pathOut,cv.VideoWriter_fourcc(*'MP4V'), fps, size)\n",
    "for i in range(len(frame_array)):\n",
    "    # writing to a image array\n",
    "    out.write(frame_array[i])\n",
    "    \n",
    "out.release()\n",
    "\n",
    "print(\"DONE\")"
   ]
  },
  {
   "cell_type": "code",
   "execution_count": null,
   "id": "55129f13",
   "metadata": {},
   "outputs": [],
   "source": []
  }
 ],
 "metadata": {
  "kernelspec": {
   "display_name": "Python 3 (ipykernel)",
   "language": "python",
   "name": "python3"
  },
  "language_info": {
   "codemirror_mode": {
    "name": "ipython",
    "version": 3
   },
   "file_extension": ".py",
   "mimetype": "text/x-python",
   "name": "python",
   "nbconvert_exporter": "python",
   "pygments_lexer": "ipython3",
   "version": "3.7.11"
  }
 },
 "nbformat": 4,
 "nbformat_minor": 5
}
